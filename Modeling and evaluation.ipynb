{
 "cells": [
  {
   "cell_type": "code",
   "execution_count": 38,
   "metadata": {
    "colab": {
     "base_uri": "https://localhost:8080/"
    },
    "id": "BgzgA2FkznES",
    "outputId": "0459675b-f83b-4285-fc45-198ccf5faffb"
   },
   "outputs": [
    {
     "name": "stdout",
     "output_type": "stream",
     "text": [
      "      Unnamed: 0   charges       BMI     HBA1C  Heart_Issues  Any_Transplants  \\\n",
      "0              0 -0.419472 -0.175473  0.631782      0.677552        -0.208377   \n",
      "1              1 -0.421305 -0.106875  0.416037      0.577093        -0.304917   \n",
      "2              2  0.625008 -0.442723  0.749582      0.485281         0.493615   \n",
      "3              3 -0.421494 -0.118172  0.445238      0.609227        -0.291668   \n",
      "4              4 -0.422511 -0.093914  0.364251      0.584175        -0.327541   \n",
      "...          ...       ...       ...       ...           ...              ...   \n",
      "2330        2330 -0.402889  0.000651 -0.228721     -0.162236         0.006650   \n",
      "2331        2331 -0.405052 -0.020647 -0.188613     -0.241230         0.062778   \n",
      "2332        2332 -0.195734  0.900637  0.031403     -0.366307         0.128954   \n",
      "2333        2333 -0.402227  0.043529 -0.345642     -0.155569        -0.070286   \n",
      "2334        2334 -0.402416  0.039477 -0.335832     -0.161340        -0.061795   \n",
      "\n",
      "      Cancer_history  NumberOfMajorSurgeries    smoker  \n",
      "0           0.112930               -0.099446  0.279980  \n",
      "1          -0.272224               -0.145257  0.355609  \n",
      "2          -0.220809                0.085167  0.223392  \n",
      "3          -0.093163               -0.111458  0.270762  \n",
      "4          -0.147927               -0.109171  0.245939  \n",
      "...              ...                     ...       ...  \n",
      "2330       -0.180500                0.198742 -0.050125  \n",
      "2331       -0.272432                0.164343 -0.035498  \n",
      "2332       -0.219492               -0.027801 -0.018479  \n",
      "2333       -0.296301                0.198861 -0.020315  \n",
      "2334       -0.295335                0.196556 -0.021268  \n",
      "\n",
      "[2335 rows x 9 columns]\n"
     ]
    }
   ],
   "source": [
    "import pandas as pd\n",
    "\n",
    "df3 = pd.read_csv('HCP.csv')\n",
    "print(df3)"
   ]
  },
  {
   "cell_type": "code",
   "execution_count": 39,
   "metadata": {
    "colab": {
     "base_uri": "https://localhost:8080/",
     "height": 423
    },
    "id": "ccTl6a29m6fG",
    "outputId": "b1990de5-1f62-47b4-99b3-3200d85c6069"
   },
   "outputs": [
    {
     "data": {
      "text/html": [
       "<div>\n",
       "<style scoped>\n",
       "    .dataframe tbody tr th:only-of-type {\n",
       "        vertical-align: middle;\n",
       "    }\n",
       "\n",
       "    .dataframe tbody tr th {\n",
       "        vertical-align: top;\n",
       "    }\n",
       "\n",
       "    .dataframe thead th {\n",
       "        text-align: right;\n",
       "    }\n",
       "</style>\n",
       "<table border=\"1\" class=\"dataframe\">\n",
       "  <thead>\n",
       "    <tr style=\"text-align: right;\">\n",
       "      <th></th>\n",
       "      <th>Unnamed: 0</th>\n",
       "      <th>charges</th>\n",
       "      <th>BMI</th>\n",
       "      <th>HBA1C</th>\n",
       "      <th>Heart_Issues</th>\n",
       "      <th>Any_Transplants</th>\n",
       "      <th>Cancer_history</th>\n",
       "      <th>NumberOfMajorSurgeries</th>\n",
       "      <th>smoker</th>\n",
       "    </tr>\n",
       "  </thead>\n",
       "  <tbody>\n",
       "    <tr>\n",
       "      <th>0</th>\n",
       "      <td>0</td>\n",
       "      <td>-0.419472</td>\n",
       "      <td>-0.175473</td>\n",
       "      <td>0.631782</td>\n",
       "      <td>0.677552</td>\n",
       "      <td>-0.208377</td>\n",
       "      <td>0.112930</td>\n",
       "      <td>-0.099446</td>\n",
       "      <td>0.279980</td>\n",
       "    </tr>\n",
       "    <tr>\n",
       "      <th>1</th>\n",
       "      <td>1</td>\n",
       "      <td>-0.421305</td>\n",
       "      <td>-0.106875</td>\n",
       "      <td>0.416037</td>\n",
       "      <td>0.577093</td>\n",
       "      <td>-0.304917</td>\n",
       "      <td>-0.272224</td>\n",
       "      <td>-0.145257</td>\n",
       "      <td>0.355609</td>\n",
       "    </tr>\n",
       "    <tr>\n",
       "      <th>2</th>\n",
       "      <td>2</td>\n",
       "      <td>0.625008</td>\n",
       "      <td>-0.442723</td>\n",
       "      <td>0.749582</td>\n",
       "      <td>0.485281</td>\n",
       "      <td>0.493615</td>\n",
       "      <td>-0.220809</td>\n",
       "      <td>0.085167</td>\n",
       "      <td>0.223392</td>\n",
       "    </tr>\n",
       "    <tr>\n",
       "      <th>3</th>\n",
       "      <td>3</td>\n",
       "      <td>-0.421494</td>\n",
       "      <td>-0.118172</td>\n",
       "      <td>0.445238</td>\n",
       "      <td>0.609227</td>\n",
       "      <td>-0.291668</td>\n",
       "      <td>-0.093163</td>\n",
       "      <td>-0.111458</td>\n",
       "      <td>0.270762</td>\n",
       "    </tr>\n",
       "    <tr>\n",
       "      <th>4</th>\n",
       "      <td>4</td>\n",
       "      <td>-0.422511</td>\n",
       "      <td>-0.093914</td>\n",
       "      <td>0.364251</td>\n",
       "      <td>0.584175</td>\n",
       "      <td>-0.327541</td>\n",
       "      <td>-0.147927</td>\n",
       "      <td>-0.109171</td>\n",
       "      <td>0.245939</td>\n",
       "    </tr>\n",
       "    <tr>\n",
       "      <th>...</th>\n",
       "      <td>...</td>\n",
       "      <td>...</td>\n",
       "      <td>...</td>\n",
       "      <td>...</td>\n",
       "      <td>...</td>\n",
       "      <td>...</td>\n",
       "      <td>...</td>\n",
       "      <td>...</td>\n",
       "      <td>...</td>\n",
       "    </tr>\n",
       "    <tr>\n",
       "      <th>2330</th>\n",
       "      <td>2330</td>\n",
       "      <td>-0.402889</td>\n",
       "      <td>0.000651</td>\n",
       "      <td>-0.228721</td>\n",
       "      <td>-0.162236</td>\n",
       "      <td>0.006650</td>\n",
       "      <td>-0.180500</td>\n",
       "      <td>0.198742</td>\n",
       "      <td>-0.050125</td>\n",
       "    </tr>\n",
       "    <tr>\n",
       "      <th>2331</th>\n",
       "      <td>2331</td>\n",
       "      <td>-0.405052</td>\n",
       "      <td>-0.020647</td>\n",
       "      <td>-0.188613</td>\n",
       "      <td>-0.241230</td>\n",
       "      <td>0.062778</td>\n",
       "      <td>-0.272432</td>\n",
       "      <td>0.164343</td>\n",
       "      <td>-0.035498</td>\n",
       "    </tr>\n",
       "    <tr>\n",
       "      <th>2332</th>\n",
       "      <td>2332</td>\n",
       "      <td>-0.195734</td>\n",
       "      <td>0.900637</td>\n",
       "      <td>0.031403</td>\n",
       "      <td>-0.366307</td>\n",
       "      <td>0.128954</td>\n",
       "      <td>-0.219492</td>\n",
       "      <td>-0.027801</td>\n",
       "      <td>-0.018479</td>\n",
       "    </tr>\n",
       "    <tr>\n",
       "      <th>2333</th>\n",
       "      <td>2333</td>\n",
       "      <td>-0.402227</td>\n",
       "      <td>0.043529</td>\n",
       "      <td>-0.345642</td>\n",
       "      <td>-0.155569</td>\n",
       "      <td>-0.070286</td>\n",
       "      <td>-0.296301</td>\n",
       "      <td>0.198861</td>\n",
       "      <td>-0.020315</td>\n",
       "    </tr>\n",
       "    <tr>\n",
       "      <th>2334</th>\n",
       "      <td>2334</td>\n",
       "      <td>-0.402416</td>\n",
       "      <td>0.039477</td>\n",
       "      <td>-0.335832</td>\n",
       "      <td>-0.161340</td>\n",
       "      <td>-0.061795</td>\n",
       "      <td>-0.295335</td>\n",
       "      <td>0.196556</td>\n",
       "      <td>-0.021268</td>\n",
       "    </tr>\n",
       "  </tbody>\n",
       "</table>\n",
       "<p>2335 rows × 9 columns</p>\n",
       "</div>"
      ],
      "text/plain": [
       "      Unnamed: 0   charges       BMI     HBA1C  Heart_Issues  Any_Transplants  \\\n",
       "0              0 -0.419472 -0.175473  0.631782      0.677552        -0.208377   \n",
       "1              1 -0.421305 -0.106875  0.416037      0.577093        -0.304917   \n",
       "2              2  0.625008 -0.442723  0.749582      0.485281         0.493615   \n",
       "3              3 -0.421494 -0.118172  0.445238      0.609227        -0.291668   \n",
       "4              4 -0.422511 -0.093914  0.364251      0.584175        -0.327541   \n",
       "...          ...       ...       ...       ...           ...              ...   \n",
       "2330        2330 -0.402889  0.000651 -0.228721     -0.162236         0.006650   \n",
       "2331        2331 -0.405052 -0.020647 -0.188613     -0.241230         0.062778   \n",
       "2332        2332 -0.195734  0.900637  0.031403     -0.366307         0.128954   \n",
       "2333        2333 -0.402227  0.043529 -0.345642     -0.155569        -0.070286   \n",
       "2334        2334 -0.402416  0.039477 -0.335832     -0.161340        -0.061795   \n",
       "\n",
       "      Cancer_history  NumberOfMajorSurgeries    smoker  \n",
       "0           0.112930               -0.099446  0.279980  \n",
       "1          -0.272224               -0.145257  0.355609  \n",
       "2          -0.220809                0.085167  0.223392  \n",
       "3          -0.093163               -0.111458  0.270762  \n",
       "4          -0.147927               -0.109171  0.245939  \n",
       "...              ...                     ...       ...  \n",
       "2330       -0.180500                0.198742 -0.050125  \n",
       "2331       -0.272432                0.164343 -0.035498  \n",
       "2332       -0.219492               -0.027801 -0.018479  \n",
       "2333       -0.296301                0.198861 -0.020315  \n",
       "2334       -0.295335                0.196556 -0.021268  \n",
       "\n",
       "[2335 rows x 9 columns]"
      ]
     },
     "execution_count": 39,
     "metadata": {},
     "output_type": "execute_result"
    }
   ],
   "source": [
    "df3"
   ]
  },
  {
   "cell_type": "markdown",
   "metadata": {
    "id": "7uJeWfi9oO8P"
   },
   "source": [
    "# Machine Learning Modeling"
   ]
  },
  {
   "cell_type": "markdown",
   "metadata": {
    "id": "Y5Vx97KBoIG7"
   },
   "source": [
    "Linear Regression"
   ]
  },
  {
   "cell_type": "code",
   "execution_count": 40,
   "metadata": {
    "colab": {
     "base_uri": "https://localhost:8080/"
    },
    "id": "UdwObVm_wSDC",
    "outputId": "220425e9-e4eb-4bae-fd91-9b48ea1184d0"
   },
   "outputs": [
    {
     "name": "stdout",
     "output_type": "stream",
     "text": [
      "Linear Regression - Training set score: 0.00\n",
      "Linear Regression - Test set score: -0.01\n",
      "Mean Squared Error: 0.24764606604684175\n",
      "R-squared: -0.012504588765545277\n",
      "Mean Absolute Error: 0.48009751952549207\n",
      "Root Mean Squared Error: 0.49764049880093336\n"
     ]
    }
   ],
   "source": [
    "from sklearn.metrics import mean_absolute_error\n",
    "\n",
    "import pandas as pd\n",
    "from sklearn.model_selection import train_test_split\n",
    "from sklearn.linear_model import LinearRegression\n",
    "from sklearn.metrics import mean_squared_error, r2_score\n",
    "from sklearn.preprocessing import StandardScaler\n",
    "\n",
    "\n",
    "# Droping the Unnamed: 0 column if it's just an index\n",
    "df3 = df3.drop('Unnamed: 0', axis=1)\n",
    "\n",
    "# Selecting features (X) and target variable (y)\n",
    "X = df3.drop('charges', axis=1)\n",
    "y = df3['charges']\n",
    "\n",
    "# Spliting the data into training and testing sets\n",
    "X_train, X_test, y_train, y_test = train_test_split(X, y, test_size=0.25, random_state=42)\n",
    "\n",
    "# Standardizing the features\n",
    "scaler = StandardScaler()\n",
    "X_train = scaler.fit_transform(X_train)\n",
    "X_test = scaler.transform(X_test)\n",
    "\n",
    "# Initializing and train the Linear Regression model\n",
    "lr = LinearRegression().fit(X_train, y_train)\n",
    "\n",
    "# Making predictions on the test set\n",
    "y_pred = lr.predict(X_test)\n",
    "\n",
    "# Evaluating the model\n",
    "mse = mean_squared_error(y_test, y_pred)\n",
    "r2 = r2_score(y_test, y_pred)\n",
    "mae = mean_absolute_error(y_test, y_pred)\n",
    "rmse = np.sqrt(mse)\n",
    "# Printing the training set and test set scores\n",
    "print(f\"Linear Regression - Training set score: {lr.score(X_train, y_train):.2f}\")\n",
    "print(f\"Linear Regression - Test set score: {lr.score(X_test, y_test):.2f}\")\n",
    "\n",
    "# Printing additional metrics if needed\n",
    "print(f'Mean Squared Error: {mse}')\n",
    "print(f'R-squared: {r2}')\n",
    "print(f'Mean Absolute Error: {mae}')\n",
    "print(f'Root Mean Squared Error: {rmse}')"
   ]
  },
  {
   "cell_type": "code",
   "execution_count": 4,
   "metadata": {
    "id": "Rf49rtYOqmfn"
   },
   "outputs": [],
   "source": [
    "\n",
    "from sklearn.model_selection import train_test_split\n",
    "from numpy import genfromtxt"
   ]
  },
  {
   "cell_type": "code",
   "execution_count": 5,
   "metadata": {
    "id": "oOE75aqxo7pV"
   },
   "outputs": [
    {
     "ename": "OSError",
     "evalue": "[Errno 28] No space left on device",
     "output_type": "error",
     "traceback": [
      "\u001b[1;31m---------------------------------------------------------------------------\u001b[0m",
      "\u001b[1;31mOSError\u001b[0m                                   Traceback (most recent call last)",
      "Cell \u001b[1;32mIn[5], line 1\u001b[0m\n\u001b[1;32m----> 1\u001b[0m dataset \u001b[38;5;241m=\u001b[39m \u001b[43mgenfromtxt\u001b[49m\u001b[43m(\u001b[49m\u001b[38;5;124;43m'\u001b[39;49m\u001b[38;5;124;43mhttps://raw.githubusercontent.com/m-mehdi/tutorials/main/boston_housing.csv\u001b[39;49m\u001b[38;5;124;43m'\u001b[39;49m\u001b[43m,\u001b[49m\u001b[43m \u001b[49m\u001b[43mdelimiter\u001b[49m\u001b[38;5;241;43m=\u001b[39;49m\u001b[38;5;124;43m'\u001b[39;49m\u001b[38;5;124;43m,\u001b[39;49m\u001b[38;5;124;43m'\u001b[39;49m\u001b[43m)\u001b[49m\n\u001b[0;32m      2\u001b[0m X\u001b[38;5;241m=\u001b[39mdataset[:, \u001b[38;5;241m-\u001b[39m\u001b[38;5;241m1\u001b[39m]\n\u001b[0;32m      3\u001b[0m y\u001b[38;5;241m=\u001b[39mdataset[:, \u001b[38;5;241m-\u001b[39m\u001b[38;5;241m1\u001b[39m]\n",
      "File \u001b[1;32m~\\anaconda3\\lib\\site-packages\\numpy\\lib\\npyio.py:1959\u001b[0m, in \u001b[0;36mgenfromtxt\u001b[1;34m(fname, dtype, comments, delimiter, skip_header, skip_footer, converters, missing_values, filling_values, usecols, names, excludelist, deletechars, replace_space, autostrip, case_sensitive, defaultfmt, unpack, usemask, loose, invalid_raise, max_rows, encoding, ndmin, like)\u001b[0m\n\u001b[0;32m   1957\u001b[0m     fname \u001b[38;5;241m=\u001b[39m os_fspath(fname)\n\u001b[0;32m   1958\u001b[0m \u001b[38;5;28;01mif\u001b[39;00m \u001b[38;5;28misinstance\u001b[39m(fname, \u001b[38;5;28mstr\u001b[39m):\n\u001b[1;32m-> 1959\u001b[0m     fid \u001b[38;5;241m=\u001b[39m \u001b[43mnp\u001b[49m\u001b[38;5;241;43m.\u001b[39;49m\u001b[43mlib\u001b[49m\u001b[38;5;241;43m.\u001b[39;49m\u001b[43m_datasource\u001b[49m\u001b[38;5;241;43m.\u001b[39;49m\u001b[43mopen\u001b[49m\u001b[43m(\u001b[49m\u001b[43mfname\u001b[49m\u001b[43m,\u001b[49m\u001b[43m \u001b[49m\u001b[38;5;124;43m'\u001b[39;49m\u001b[38;5;124;43mrt\u001b[39;49m\u001b[38;5;124;43m'\u001b[39;49m\u001b[43m,\u001b[49m\u001b[43m \u001b[49m\u001b[43mencoding\u001b[49m\u001b[38;5;241;43m=\u001b[39;49m\u001b[43mencoding\u001b[49m\u001b[43m)\u001b[49m\n\u001b[0;32m   1960\u001b[0m     fid_ctx \u001b[38;5;241m=\u001b[39m contextlib\u001b[38;5;241m.\u001b[39mclosing(fid)\n\u001b[0;32m   1961\u001b[0m \u001b[38;5;28;01melse\u001b[39;00m:\n",
      "File \u001b[1;32m~\\anaconda3\\lib\\site-packages\\numpy\\lib\\_datasource.py:193\u001b[0m, in \u001b[0;36mopen\u001b[1;34m(path, mode, destpath, encoding, newline)\u001b[0m\n\u001b[0;32m    156\u001b[0m \u001b[38;5;124;03m\"\"\"\u001b[39;00m\n\u001b[0;32m    157\u001b[0m \u001b[38;5;124;03mOpen `path` with `mode` and return the file object.\u001b[39;00m\n\u001b[0;32m    158\u001b[0m \n\u001b[1;32m   (...)\u001b[0m\n\u001b[0;32m    189\u001b[0m \n\u001b[0;32m    190\u001b[0m \u001b[38;5;124;03m\"\"\"\u001b[39;00m\n\u001b[0;32m    192\u001b[0m ds \u001b[38;5;241m=\u001b[39m DataSource(destpath)\n\u001b[1;32m--> 193\u001b[0m \u001b[38;5;28;01mreturn\u001b[39;00m \u001b[43mds\u001b[49m\u001b[38;5;241;43m.\u001b[39;49m\u001b[43mopen\u001b[49m\u001b[43m(\u001b[49m\u001b[43mpath\u001b[49m\u001b[43m,\u001b[49m\u001b[43m \u001b[49m\u001b[43mmode\u001b[49m\u001b[43m,\u001b[49m\u001b[43m \u001b[49m\u001b[43mencoding\u001b[49m\u001b[38;5;241;43m=\u001b[39;49m\u001b[43mencoding\u001b[49m\u001b[43m,\u001b[49m\u001b[43m \u001b[49m\u001b[43mnewline\u001b[49m\u001b[38;5;241;43m=\u001b[39;49m\u001b[43mnewline\u001b[49m\u001b[43m)\u001b[49m\n",
      "File \u001b[1;32m~\\anaconda3\\lib\\site-packages\\numpy\\lib\\_datasource.py:525\u001b[0m, in \u001b[0;36mDataSource.open\u001b[1;34m(self, path, mode, encoding, newline)\u001b[0m\n\u001b[0;32m    522\u001b[0m     \u001b[38;5;28;01mraise\u001b[39;00m \u001b[38;5;167;01mValueError\u001b[39;00m(\u001b[38;5;124m\"\u001b[39m\u001b[38;5;124mURLs are not writeable\u001b[39m\u001b[38;5;124m\"\u001b[39m)\n\u001b[0;32m    524\u001b[0m \u001b[38;5;66;03m# NOTE: _findfile will fail on a new file opened for writing.\u001b[39;00m\n\u001b[1;32m--> 525\u001b[0m found \u001b[38;5;241m=\u001b[39m \u001b[38;5;28;43mself\u001b[39;49m\u001b[38;5;241;43m.\u001b[39;49m\u001b[43m_findfile\u001b[49m\u001b[43m(\u001b[49m\u001b[43mpath\u001b[49m\u001b[43m)\u001b[49m\n\u001b[0;32m    526\u001b[0m \u001b[38;5;28;01mif\u001b[39;00m found:\n\u001b[0;32m    527\u001b[0m     _fname, ext \u001b[38;5;241m=\u001b[39m \u001b[38;5;28mself\u001b[39m\u001b[38;5;241m.\u001b[39m_splitzipext(found)\n",
      "File \u001b[1;32m~\\anaconda3\\lib\\site-packages\\numpy\\lib\\_datasource.py:371\u001b[0m, in \u001b[0;36mDataSource._findfile\u001b[1;34m(self, path)\u001b[0m\n\u001b[0;32m    369\u001b[0m     \u001b[38;5;28;01mif\u001b[39;00m \u001b[38;5;28mself\u001b[39m\u001b[38;5;241m.\u001b[39mexists(name):\n\u001b[0;32m    370\u001b[0m         \u001b[38;5;28;01mif\u001b[39;00m \u001b[38;5;28mself\u001b[39m\u001b[38;5;241m.\u001b[39m_isurl(name):\n\u001b[1;32m--> 371\u001b[0m             name \u001b[38;5;241m=\u001b[39m \u001b[38;5;28;43mself\u001b[39;49m\u001b[38;5;241;43m.\u001b[39;49m\u001b[43m_cache\u001b[49m\u001b[43m(\u001b[49m\u001b[43mname\u001b[49m\u001b[43m)\u001b[49m\n\u001b[0;32m    372\u001b[0m         \u001b[38;5;28;01mreturn\u001b[39;00m name\n\u001b[0;32m    373\u001b[0m \u001b[38;5;28;01mreturn\u001b[39;00m \u001b[38;5;28;01mNone\u001b[39;00m\n",
      "File \u001b[1;32m~\\anaconda3\\lib\\site-packages\\numpy\\lib\\_datasource.py:339\u001b[0m, in \u001b[0;36mDataSource._cache\u001b[1;34m(self, path)\u001b[0m\n\u001b[0;32m    337\u001b[0m     \u001b[38;5;28;01mwith\u001b[39;00m urlopen(path) \u001b[38;5;28;01mas\u001b[39;00m openedurl:\n\u001b[0;32m    338\u001b[0m         \u001b[38;5;28;01mwith\u001b[39;00m _open(upath, \u001b[38;5;124m'\u001b[39m\u001b[38;5;124mwb\u001b[39m\u001b[38;5;124m'\u001b[39m) \u001b[38;5;28;01mas\u001b[39;00m f:\n\u001b[1;32m--> 339\u001b[0m             \u001b[43mshutil\u001b[49m\u001b[38;5;241;43m.\u001b[39;49m\u001b[43mcopyfileobj\u001b[49m\u001b[43m(\u001b[49m\u001b[43mopenedurl\u001b[49m\u001b[43m,\u001b[49m\u001b[43m \u001b[49m\u001b[43mf\u001b[49m\u001b[43m)\u001b[49m\n\u001b[0;32m    340\u001b[0m \u001b[38;5;28;01melse\u001b[39;00m:\n\u001b[0;32m    341\u001b[0m     shutil\u001b[38;5;241m.\u001b[39mcopyfile(path, upath)\n",
      "File \u001b[1;32m~\\anaconda3\\lib\\shutil.py:198\u001b[0m, in \u001b[0;36mcopyfileobj\u001b[1;34m(fsrc, fdst, length)\u001b[0m\n\u001b[0;32m    196\u001b[0m \u001b[38;5;28;01mif\u001b[39;00m \u001b[38;5;129;01mnot\u001b[39;00m buf:\n\u001b[0;32m    197\u001b[0m     \u001b[38;5;28;01mbreak\u001b[39;00m\n\u001b[1;32m--> 198\u001b[0m \u001b[43mfdst_write\u001b[49m\u001b[43m(\u001b[49m\u001b[43mbuf\u001b[49m\u001b[43m)\u001b[49m\n",
      "\u001b[1;31mOSError\u001b[0m: [Errno 28] No space left on device"
     ]
    }
   ],
   "source": [
    "\n",
    "dataset = genfromtxt('https://raw.githubusercontent.com/m-mehdi/tutorials/main/boston_housing.csv', delimiter=',')\n",
    "X=dataset[:, -1]\n",
    "y=dataset[:, -1]\n",
    "X_train, X_test, y_train, y_test = train_test_split(X, y, test_size=0.25, random_state=0)"
   ]
  },
  {
   "cell_type": "code",
   "execution_count": null,
   "metadata": {
    "colab": {
     "base_uri": "https://localhost:8080/"
    },
    "id": "aPi4tf5roV6l",
    "outputId": "f8fdcafe-d0e7-4fbe-865c-d673eda48eaa"
   },
   "outputs": [],
   "source": [
    "X.shape"
   ]
  },
  {
   "cell_type": "markdown",
   "metadata": {
    "id": "oNqE8KdUx9jg"
   },
   "source": [
    "Linear, Lesso and Ridge Regression"
   ]
  },
  {
   "cell_type": "code",
   "execution_count": null,
   "metadata": {
    "id": "GwNzYbCty2SW"
   },
   "outputs": [],
   "source": [
    "df3 = pd.read_csv('HCP.csv')"
   ]
  },
  {
   "cell_type": "code",
   "execution_count": null,
   "metadata": {
    "colab": {
     "base_uri": "https://localhost:8080/"
    },
    "id": "ZyjiQm0_xTbZ",
    "outputId": "bae1482e-5227-4371-b3a4-4453209ab0ef"
   },
   "outputs": [],
   "source": [
    "import pandas as pd\n",
    "from sklearn.model_selection import train_test_split\n",
    "from sklearn.linear_model import LinearRegression, Ridge, Lasso\n",
    "from sklearn.metrics import mean_squared_error, r2_score\n",
    "from sklearn.preprocessing import StandardScaler\n",
    "\n",
    "# Droping the Unnamed: 0 column if it's just an index\n",
    "df3 = df3.drop('Unnamed: 0', axis=1)\n",
    "\n",
    "# Selecting features (X) and target variable (y)\n",
    "X = df3.drop('charges', axis=1)\n",
    "y = df3['charges']\n",
    "\n",
    "# Spliting the data into training and testing sets\n",
    "X_train, X_test, y_train, y_test = train_test_split(X, y, test_size=0.25, random_state=42)\n",
    "\n",
    "# Standardizing the features (optional but can be beneficial for some algorithms)\n",
    "scaler = StandardScaler()\n",
    "X_train = scaler.fit_transform(X_train)\n",
    "X_test = scaler.transform(X_test)\n",
    "\n",
    "# Linear Regression\n",
    "lr = LinearRegression().fit(X_train, y_train)\n",
    "y_pred_lr = lr.predict(X_test)\n",
    "mse_lr = mean_squared_error(y_test, y_pred_lr)\n",
    "r2_lr = r2_score(y_test, y_pred_lr)\n",
    "\n",
    "# Ridge Regression\n",
    "alpha_ridge = 1.0  # Adjusting the regularization strength (hyperparameter)\n",
    "ridge = Ridge(alpha=alpha_ridge).fit(X_train, y_train)\n",
    "y_pred_ridge = ridge.predict(X_test)\n",
    "mse_ridge = mean_squared_error(y_test, y_pred_ridge)\n",
    "r2_ridge = r2_score(y_test, y_pred_ridge)\n",
    "\n",
    "# Lasso Regression\n",
    "alpha_lasso = 1.0  # Adjusting the regularization strength (hyperparameter)\n",
    "lasso = Lasso(alpha=alpha_lasso).fit(X_train, y_train)\n",
    "y_pred_lasso = lasso.predict(X_test)\n",
    "mse_lasso = mean_squared_error(y_test, y_pred_lasso)\n",
    "r2_lasso = r2_score(y_test, y_pred_lasso)\n",
    "\n",
    "# Printing the scores for each model\n",
    "print(\"Linear Regression:\")\n",
    "print(f\"Training set score: {lr.score(X_train, y_train):.2f}\")\n",
    "print(f\"Test set score: {lr.score(X_test, y_test):.2f}\")\n",
    "print(f'Mean Squared Error: {mse_lr}')\n",
    "print(f'R-squared: {r2_lr}')\n",
    "print()\n",
    "\n",
    "print(\"Ridge Regression:\")\n",
    "print(f\"Training set score: {ridge.score(X_train, y_train):.2f}\")\n",
    "print(f\"Test set score: {ridge.score(X_test, y_test):.2f}\")\n",
    "print(f'Mean Squared Error: {mse_ridge}')\n",
    "print(f'R-squared: {r2_ridge}')\n",
    "print()\n",
    "\n",
    "print(\"Lasso Regression:\")\n",
    "print(f\"Training set score: {lasso.score(X_train, y_train):.2f}\")\n",
    "print(f\"Test set score: {lasso.score(X_test, y_test):.2f}\")\n",
    "print(f'Mean Squared Error: {mse_lasso}')\n",
    "print(f'R-squared: {r2_lasso}')\n",
    "\n"
   ]
  },
  {
   "cell_type": "code",
   "execution_count": null,
   "metadata": {
    "colab": {
     "base_uri": "https://localhost:8080/"
    },
    "id": "4F4pooAMxmPJ",
    "outputId": "1760d9f4-64ae-4919-916c-ef34871e13db"
   },
   "outputs": [],
   "source": [
    "print(f\"Number of features: {sum(lasso.coef_ != 0)}\")"
   ]
  },
  {
   "cell_type": "code",
   "execution_count": 8,
   "metadata": {},
   "outputs": [
    {
     "data": {
      "image/png": "[encoded data removed]",
      "text/plain": [
       "<Figure size 640x480 with 1 Axes>"
      ]
     },
     "metadata": {},
     "output_type": "display_data"
    }
   ],
   "source": [
    "import matplotlib.pyplot as plt\n",
    "# Linear Regression\n",
    "lr = LinearRegression().fit(X_train, y_train)\n",
    "y_pred_lr = lr.predict(X_test)  # Make predictions for the test set\n",
    "\n",
    "# ... (other regression models)\n",
    "\n",
    "# Residual Analysis for Linear Regression\n",
    "residuals_lr = y_test - y_pred_lr\n",
    "plt.scatter(y_pred_lr, residuals_lr)\n",
    "plt.title('Residual Plot - Linear Regression')\n",
    "plt.xlabel('Predicted Values')\n",
    "plt.ylabel('Residuals')\n",
    "plt.show()\n"
   ]
  },
  {
   "cell_type": "markdown",
   "metadata": {},
   "source": [
    "# improvement\n"
   ]
  },
  {
   "cell_type": "code",
   "execution_count": 41,
   "metadata": {},
   "outputs": [
    {
     "name": "stdout",
     "output_type": "stream",
     "text": [
      "Polynomial Regression - Training set score: 1.00\n",
      "Polynomial Regression - Test set score: 1.00\n",
      "Mean Squared Error (Poly): 2.5147433190676563e-29\n",
      "Mean Absolute Error (Poly): 3.590877595271991e-15\n",
      "Root Mean Squared Error (Poly): 5.014721646380441e-15\n",
      "R-squared (Poly): 1.0\n"
     ]
    }
   ],
   "source": [
    "from sklearn.preprocessing import PolynomialFeatures\n",
    "\n",
    "# Add Polynomial Features\n",
    "poly = PolynomialFeatures(degree=2)\n",
    "X_poly = poly.fit_transform(X)\n",
    "\n",
    "# Split the data into training and testing sets\n",
    "X_train_poly, X_test_poly, y_train, y_test = train_test_split(X_poly, y, test_size=0.25, random_state=42)\n",
    "\n",
    "# Standardize the features\n",
    "scaler_poly = StandardScaler()\n",
    "X_train_poly = scaler_poly.fit_transform(X_train_poly)\n",
    "X_test_poly = scaler_poly.transform(X_test_poly)\n",
    "\n",
    "# Initialize and train the Linear Regression model on polynomial features\n",
    "lr_poly = LinearRegression().fit(X_train_poly, y_train)\n",
    "\n",
    "# Make predictions on the test set\n",
    "y_pred_poly = lr_poly.predict(X_test_poly)\n",
    "\n",
    "# Evaluate the model\n",
    "mse_poly = mean_squared_error(y_test, y_pred_poly)\n",
    "mae_poly = mean_absolute_error(y_test, y_pred_poly)\n",
    "rmse_poly = np.sqrt(mse_poly)\n",
    "r2_poly = r2_score(y_test, y_pred_poly)\n",
    "\n",
    "# Print the training set and test set scores for the polynomial model\n",
    "print(f\"Polynomial Regression - Training set score: {lr_poly.score(X_train_poly, y_train):.2f}\")\n",
    "print(f\"Polynomial Regression - Test set score: {lr_poly.score(X_test_poly, y_test):.2f}\")\n",
    "\n",
    "# Print additional metrics for the polynomial model\n",
    "print(f'Mean Squared Error (Poly): {mse_poly}')\n",
    "print(f'Mean Absolute Error (Poly): {mae_poly}')\n",
    "print(f'Root Mean Squared Error (Poly): {rmse_poly}')\n",
    "print(f'R-squared (Poly): {r2_poly}')\n"
   ]
  },
  {
   "cell_type": "code",
   "execution_count": 42,
   "metadata": {},
   "outputs": [
    {
     "name": "stdout",
     "output_type": "stream",
     "text": [
      "Ridge Regression - Training set score: 0.00\n",
      "Ridge Regression - Test set score: -0.01\n",
      "Mean Squared Error (Ridge): 0.24763398421960156\n",
      "Mean Absolute Error (Ridge): 0.4800905680920729\n",
      "Root Mean Squared Error (Ridge): 0.49762835954113543\n",
      "R-squared (Ridge): -0.012455192036913143\n"
     ]
    }
   ],
   "source": [
    "# Ridge Regression with Cross-Validated Alpha\n",
    "\n",
    "from sklearn.linear_model import RidgeCV\n",
    "\n",
    "# Ridge Regression with Cross-Validated Alpha\n",
    "ridge_cv = RidgeCV(alphas=[0.1, 1.0, 10.0], cv=5)\n",
    "ridge_cv.fit(X_train, y_train)\n",
    "y_pred_ridge = ridge_cv.predict(X_test)\n",
    "\n",
    "# Evaluate the Ridge Regression model\n",
    "mse_ridge = mean_squared_error(y_test, y_pred_ridge)\n",
    "mae_ridge = mean_absolute_error(y_test, y_pred_ridge)\n",
    "rmse_ridge = np.sqrt(mse_ridge)\n",
    "r2_ridge = r2_score(y_test, y_pred_ridge)\n",
    "\n",
    "# Print the training set and test set scores for Ridge Regression\n",
    "print(f\"Ridge Regression - Training set score: {ridge_cv.score(X_train, y_train):.2f}\")\n",
    "print(f\"Ridge Regression - Test set score: {ridge_cv.score(X_test, y_test):.2f}\")\n",
    "\n",
    "# Print additional metrics for Ridge Regression\n",
    "print(f'Mean Squared Error (Ridge): {mse_ridge}')\n",
    "print(f'Mean Absolute Error (Ridge): {mae_ridge}')\n",
    "print(f'Root Mean Squared Error (Ridge): {rmse_ridge}')\n",
    "print(f'R-squared (Ridge): {r2_ridge}')\n"
   ]
  },
  {
   "cell_type": "code",
   "execution_count": 21,
   "metadata": {},
   "outputs": [],
   "source": []
  },
  {
   "cell_type": "code",
   "execution_count": 26,
   "metadata": {},
   "outputs": [],
   "source": []
  },
  {
   "cell_type": "code",
   "execution_count": 27,
   "metadata": {},
   "outputs": [],
   "source": []
  },
  {
   "cell_type": "code",
   "execution_count": null,
   "metadata": {},
   "outputs": [],
   "source": []
  },
  {
   "cell_type": "code",
   "execution_count": 28,
   "metadata": {},
   "outputs": [
    {
     "name": "stdout",
     "output_type": "stream",
     "text": [
      "Cross-Validation Results:\n",
      "Linear Regression: -0.17791789631916113\n",
      "Ridge Regression: -0.06388616524076593\n",
      "Lasso Regression: -0.024877511538633757\n"
     ]
    }
   ],
   "source": []
  },
  {
   "cell_type": "code",
   "execution_count": null,
   "metadata": {},
   "outputs": [],
   "source": []
  }
 ],
 "metadata": {
  "colab": {
   "provenance": []
  },
  "kernelspec": {
   "display_name": "Python 3 (ipykernel)",
   "language": "python",
   "name": "python3"
  },
  "language_info": {
   "codemirror_mode": {
    "name": "ipython",
    "version": 3
   },
   "file_extension": ".py",
   "mimetype": "text/x-python",
   "name": "python",
   "nbconvert_exporter": "python",
   "pygments_lexer": "ipython3",
   "version": "3.10.9"
  }
 },
 "nbformat": 4,
 "nbformat_minor": 1
}
